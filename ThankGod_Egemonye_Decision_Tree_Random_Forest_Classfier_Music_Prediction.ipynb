{
 "cells": [
  {
   "cell_type": "code",
   "execution_count": 1,
   "id": "c57e4f6f",
   "metadata": {},
   "outputs": [],
   "source": [
    "import pandas as pd\n",
    "import numpy as np\n",
    "import seaborn as sns\n",
    "import matplotlib.pyplot as plt\n",
    "%matplotlib inline\n",
    "from sklearn.tree import DecisionTreeClassifier\n",
    "from sklearn.ensemble import RandomForestClassifier\n",
    "from sklearn.model_selection import train_test_split\n",
    "from sklearn.metrics import classification_report, confusion_matrix, accuracy_score\n",
    "from sklearn.tree import export_text, plot_tree"
   ]
  },
  {
   "cell_type": "code",
   "execution_count": 2,
   "id": "65592b77",
   "metadata": {},
   "outputs": [
    {
     "data": {
      "text/html": [
       "<div>\n",
       "<style scoped>\n",
       "    .dataframe tbody tr th:only-of-type {\n",
       "        vertical-align: middle;\n",
       "    }\n",
       "\n",
       "    .dataframe tbody tr th {\n",
       "        vertical-align: top;\n",
       "    }\n",
       "\n",
       "    .dataframe thead th {\n",
       "        text-align: right;\n",
       "    }\n",
       "</style>\n",
       "<table border=\"1\" class=\"dataframe\">\n",
       "  <thead>\n",
       "    <tr style=\"text-align: right;\">\n",
       "      <th></th>\n",
       "      <th>age</th>\n",
       "      <th>gender</th>\n",
       "      <th>genre</th>\n",
       "    </tr>\n",
       "  </thead>\n",
       "  <tbody>\n",
       "    <tr>\n",
       "      <th>0</th>\n",
       "      <td>20</td>\n",
       "      <td>1</td>\n",
       "      <td>HipHop</td>\n",
       "    </tr>\n",
       "    <tr>\n",
       "      <th>1</th>\n",
       "      <td>23</td>\n",
       "      <td>1</td>\n",
       "      <td>HipHop</td>\n",
       "    </tr>\n",
       "    <tr>\n",
       "      <th>2</th>\n",
       "      <td>25</td>\n",
       "      <td>1</td>\n",
       "      <td>HipHop</td>\n",
       "    </tr>\n",
       "    <tr>\n",
       "      <th>3</th>\n",
       "      <td>26</td>\n",
       "      <td>1</td>\n",
       "      <td>Jazz</td>\n",
       "    </tr>\n",
       "    <tr>\n",
       "      <th>4</th>\n",
       "      <td>29</td>\n",
       "      <td>1</td>\n",
       "      <td>Jazz</td>\n",
       "    </tr>\n",
       "    <tr>\n",
       "      <th>5</th>\n",
       "      <td>30</td>\n",
       "      <td>1</td>\n",
       "      <td>Jazz</td>\n",
       "    </tr>\n",
       "    <tr>\n",
       "      <th>6</th>\n",
       "      <td>31</td>\n",
       "      <td>1</td>\n",
       "      <td>Classical</td>\n",
       "    </tr>\n",
       "    <tr>\n",
       "      <th>7</th>\n",
       "      <td>33</td>\n",
       "      <td>1</td>\n",
       "      <td>Classical</td>\n",
       "    </tr>\n",
       "    <tr>\n",
       "      <th>8</th>\n",
       "      <td>37</td>\n",
       "      <td>1</td>\n",
       "      <td>Classical</td>\n",
       "    </tr>\n",
       "    <tr>\n",
       "      <th>9</th>\n",
       "      <td>20</td>\n",
       "      <td>0</td>\n",
       "      <td>Dance</td>\n",
       "    </tr>\n",
       "    <tr>\n",
       "      <th>10</th>\n",
       "      <td>21</td>\n",
       "      <td>0</td>\n",
       "      <td>Dance</td>\n",
       "    </tr>\n",
       "    <tr>\n",
       "      <th>11</th>\n",
       "      <td>25</td>\n",
       "      <td>0</td>\n",
       "      <td>Dance</td>\n",
       "    </tr>\n",
       "    <tr>\n",
       "      <th>12</th>\n",
       "      <td>26</td>\n",
       "      <td>0</td>\n",
       "      <td>Acoustic</td>\n",
       "    </tr>\n",
       "    <tr>\n",
       "      <th>13</th>\n",
       "      <td>27</td>\n",
       "      <td>0</td>\n",
       "      <td>Acoustic</td>\n",
       "    </tr>\n",
       "    <tr>\n",
       "      <th>14</th>\n",
       "      <td>30</td>\n",
       "      <td>0</td>\n",
       "      <td>Acoustic</td>\n",
       "    </tr>\n",
       "    <tr>\n",
       "      <th>15</th>\n",
       "      <td>31</td>\n",
       "      <td>0</td>\n",
       "      <td>Classical</td>\n",
       "    </tr>\n",
       "    <tr>\n",
       "      <th>16</th>\n",
       "      <td>34</td>\n",
       "      <td>0</td>\n",
       "      <td>Classical</td>\n",
       "    </tr>\n",
       "    <tr>\n",
       "      <th>17</th>\n",
       "      <td>35</td>\n",
       "      <td>0</td>\n",
       "      <td>Classical</td>\n",
       "    </tr>\n",
       "  </tbody>\n",
       "</table>\n",
       "</div>"
      ],
      "text/plain": [
       "    age  gender      genre\n",
       "0    20       1     HipHop\n",
       "1    23       1     HipHop\n",
       "2    25       1     HipHop\n",
       "3    26       1       Jazz\n",
       "4    29       1       Jazz\n",
       "5    30       1       Jazz\n",
       "6    31       1  Classical\n",
       "7    33       1  Classical\n",
       "8    37       1  Classical\n",
       "9    20       0      Dance\n",
       "10   21       0      Dance\n",
       "11   25       0      Dance\n",
       "12   26       0   Acoustic\n",
       "13   27       0   Acoustic\n",
       "14   30       0   Acoustic\n",
       "15   31       0  Classical\n",
       "16   34       0  Classical\n",
       "17   35       0  Classical"
      ]
     },
     "execution_count": 2,
     "metadata": {},
     "output_type": "execute_result"
    }
   ],
   "source": [
    "music= pd.read_csv('music.csv')\n",
    "music"
   ]
  },
  {
   "cell_type": "code",
   "execution_count": 3,
   "id": "bf658a7f",
   "metadata": {},
   "outputs": [],
   "source": [
    "# feature selection\n",
    "# Assume Male= 1, Female = 0\n",
    "Features= ['age', 'gender']\n",
    "Class= ['HipHop', 'Jazz', 'Classical', 'Dance', 'Acoustic',]\n",
    "X=music.drop(columns= 'genre')\n",
    "Y= music['genre']"
   ]
  },
  {
   "cell_type": "code",
   "execution_count": 4,
   "id": "ce6d2b3a",
   "metadata": {},
   "outputs": [
    {
     "name": "stdout",
     "output_type": "stream",
     "text": [
      "Decision_Y_pred:  ['Classical' 'Jazz' 'Acoustic' 'HipHop']\n",
      "Decision_classifier:  \n",
      "accuracy_score:  100.0 % \n",
      " confusion_matrix:  [[1 0 0 0]\n",
      " [0 1 0 0]\n",
      " [0 0 1 0]\n",
      " [0 0 0 1]] \n",
      " classification_report:                precision    recall  f1-score   support\n",
      "\n",
      "    Acoustic       1.00      1.00      1.00         1\n",
      "   Classical       1.00      1.00      1.00         1\n",
      "      HipHop       1.00      1.00      1.00         1\n",
      "        Jazz       1.00      1.00      1.00         1\n",
      "\n",
      "    accuracy                           1.00         4\n",
      "   macro avg       1.00      1.00      1.00         4\n",
      "weighted avg       1.00      1.00      1.00         4\n",
      "\n",
      "Random_Y_pred:  ['Jazz' 'HipHop' 'Acoustic' 'HipHop']\n",
      "Random_Forest_classifier:  \n",
      "accuracy_score:  50.0 % \n",
      " confusion_matrix:  [[1 0 0 0]\n",
      " [0 0 0 1]\n",
      " [0 0 1 0]\n",
      " [0 0 1 0]] \n",
      " classification_report:                precision    recall  f1-score   support\n",
      "\n",
      "    Acoustic       1.00      1.00      1.00         1\n",
      "   Classical       0.00      0.00      0.00         1\n",
      "      HipHop       0.50      1.00      0.67         1\n",
      "        Jazz       0.00      0.00      0.00         1\n",
      "\n",
      "    accuracy                           0.50         4\n",
      "   macro avg       0.38      0.50      0.42         4\n",
      "weighted avg       0.38      0.50      0.42         4\n",
      "\n"
     ]
    },
    {
     "name": "stderr",
     "output_type": "stream",
     "text": [
      "C:\\Users\\USER\\anaconda3\\lib\\site-packages\\sklearn\\metrics\\_classification.py:1318: UndefinedMetricWarning: Precision and F-score are ill-defined and being set to 0.0 in labels with no predicted samples. Use `zero_division` parameter to control this behavior.\n",
      "  _warn_prf(average, modifier, msg_start, len(result))\n",
      "C:\\Users\\USER\\anaconda3\\lib\\site-packages\\sklearn\\metrics\\_classification.py:1318: UndefinedMetricWarning: Precision and F-score are ill-defined and being set to 0.0 in labels with no predicted samples. Use `zero_division` parameter to control this behavior.\n",
      "  _warn_prf(average, modifier, msg_start, len(result))\n",
      "C:\\Users\\USER\\anaconda3\\lib\\site-packages\\sklearn\\metrics\\_classification.py:1318: UndefinedMetricWarning: Precision and F-score are ill-defined and being set to 0.0 in labels with no predicted samples. Use `zero_division` parameter to control this behavior.\n",
      "  _warn_prf(average, modifier, msg_start, len(result))\n"
     ]
    }
   ],
   "source": [
    "# training of models\n",
    "X_train, X_test, Y_train, Y_test = train_test_split(X, Y, train_size= 0.8, random_state=1)\n",
    "\n",
    "Decision_classifier= DecisionTreeClassifier()\n",
    "Decision_classifier.fit(X_train, Y_train)\n",
    "Y_pred= Decision_classifier.predict(X_test)\n",
    "print('Decision_Y_pred: ', Y_pred)\n",
    "\n",
    "print('Decision_classifier: ', '\\n' 'accuracy_score: ', accuracy_score(Y_test, Y_pred)*100,'%', \n",
    "     '\\n', 'confusion_matrix: ', confusion_matrix(Y_test, Y_pred), '\\n',\n",
    "      'classification_report: ', classification_report(Y_test, Y_pred))\n",
    "\n",
    "Random_Forest_classifier= RandomForestClassifier(n_estimators=100)\n",
    "Random_Forest_classifier.fit(X_train, Y_train)\n",
    "Y_pred_Random= Random_Forest_classifier.predict(X_test)\n",
    "\n",
    "print('Random_Y_pred: ', Y_pred_Random)    \n",
    "print('Random_Forest_classifier: ', '\\n' 'accuracy_score: ', accuracy_score(Y_test, Y_pred_Random)*100,'%', \n",
    "     '\\n', 'confusion_matrix: ', confusion_matrix(Y_test, Y_pred_Random), '\\n',\n",
    "      'classification_report: ', classification_report(Y_test, Y_pred_Random))\n",
    "# Best model for deployment is Decision_tree classifier with 100% accuracy while Random_Forest_classifier has 75% accuracy"
   ]
  },
  {
   "cell_type": "code",
   "execution_count": 5,
   "id": "a5314d51",
   "metadata": {},
   "outputs": [
    {
     "name": "stdout",
     "output_type": "stream",
     "text": [
      "For Decision_Tree_classifier, Y_test is: \n",
      " 6     Classical\n",
      "3          Jazz\n",
      "13     Acoustic\n",
      "2        HipHop\n",
      "Name: genre, dtype: object\n",
      " while the Y_predict is: \n",
      " 6     Classical\n",
      "3          Jazz\n",
      "13     Acoustic\n",
      "2        HipHop\n",
      "dtype: object\n"
     ]
    }
   ],
   "source": [
    "# comparing Y_test and Y_predict from DecisionTree\n",
    "print(f'For Decision_Tree_classifier, Y_test is: \\n {pd.Series(Y_test)}\\n while the Y_predict is: \\n {pd.Series(Y_pred, index=Y_test.index)}')"
   ]
  },
  {
   "cell_type": "code",
   "execution_count": 8,
   "id": "b27da1c1",
   "metadata": {},
   "outputs": [
    {
     "name": "stdout",
     "output_type": "stream",
     "text": [
      "For Random_Forest_classifier, Y_test is: \n",
      " 6     Classical\n",
      "3          Jazz\n",
      "13     Acoustic\n",
      "2        HipHop\n",
      "Name: genre, dtype: object\n",
      " while the Y_predict is: \n",
      " 6         Jazz\n",
      "3       HipHop\n",
      "13    Acoustic\n",
      "2       HipHop\n",
      "dtype: object\n"
     ]
    }
   ],
   "source": [
    "# Comparing Y_test and Y_predict from Random_forest\n",
    "print(f'For Random_Forest_classifier, Y_test is: \\n {pd.Series(Y_test)}\\n while the Y_predict is: \\n {pd.Series(Y_pred_Random, index=Y_test.index)}')"
   ]
  },
  {
   "cell_type": "code",
   "execution_count": 27,
   "id": "ad4d2a1e",
   "metadata": {},
   "outputs": [
    {
     "name": "stdout",
     "output_type": "stream",
     "text": [
      "Decision_Y_pred:  ['Jazz' 'Acoustic']\n",
      "\n",
      "\n",
      "Random_Y_pred:  ['Jazz' 'Acoustic']\n"
     ]
    },
    {
     "name": "stderr",
     "output_type": "stream",
     "text": [
      "C:\\Users\\USER\\anaconda3\\lib\\site-packages\\sklearn\\base.py:450: UserWarning: X does not have valid feature names, but DecisionTreeClassifier was fitted with feature names\n",
      "  warnings.warn(\n",
      "C:\\Users\\USER\\anaconda3\\lib\\site-packages\\sklearn\\base.py:450: UserWarning: X does not have valid feature names, but RandomForestClassifier was fitted with feature names\n",
      "  warnings.warn(\n"
     ]
    }
   ],
   "source": [
    "# predicting type of music liked by a particular age of male and female not included in our dataset \n",
    "# predicting using decision tree classifier\n",
    "New_Decision_Y_pred= Decision_classifier.predict([[28,1],[28,0]])\n",
    "print('Decision_Y_pred: ', New_Decision_Y_pred)\n",
    "print('\\n')\n",
    "New_Y_pred_Random= Random_Forest_classifier.predict([[28,1],[28,0]])\n",
    "print('Random_Y_pred: ', New_Y_pred_Random)"
   ]
  },
  {
   "cell_type": "code",
   "execution_count": null,
   "id": "23c53b72",
   "metadata": {},
   "outputs": [],
   "source": [
    "# Our results depicted that male with age 28 liked Jazz music while female liked acoustic"
   ]
  },
  {
   "cell_type": "code",
   "execution_count": 9,
   "id": "36f57175",
   "metadata": {},
   "outputs": [
    {
     "data": {
      "text/plain": [
       "6     Classical\n",
       "3          Jazz\n",
       "13     Acoustic\n",
       "2        HipHop\n",
       "Name: genre, dtype: object"
      ]
     },
     "execution_count": 9,
     "metadata": {},
     "output_type": "execute_result"
    }
   ],
   "source": [
    "# printing Y_test\n",
    "Y_test"
   ]
  },
  {
   "cell_type": "code",
   "execution_count": 10,
   "id": "a8b8b2d6",
   "metadata": {
    "scrolled": true
   },
   "outputs": [
    {
     "name": "stdout",
     "output_type": "stream",
     "text": [
      "|--- feature_0 <= 30.50\n",
      "|   |--- feature_0 <= 25.50\n",
      "|   |   |--- feature_1 <= 0.50\n",
      "|   |   |   |--- class: Dance\n",
      "|   |   |--- feature_1 >  0.50\n",
      "|   |   |   |--- class: HipHop\n",
      "|   |--- feature_0 >  25.50\n",
      "|   |   |--- feature_1 <= 0.50\n",
      "|   |   |   |--- class: Acoustic\n",
      "|   |   |--- feature_1 >  0.50\n",
      "|   |   |   |--- class: Jazz\n",
      "|--- feature_0 >  30.50\n",
      "|   |--- class: Classical\n",
      "\n"
     ]
    }
   ],
   "source": [
    "# Exporting Decison Tree prediction as text file\n",
    "Decision_text = export_text(Decision_classifier)\n",
    "print(Decision_text)"
   ]
  },
  {
   "cell_type": "code",
   "execution_count": 11,
   "id": "32d83ec4",
   "metadata": {},
   "outputs": [],
   "source": [
    "# Writing the exported text in a log file\n",
    "with open('Decision_tree.log', \"w\") as f:\n",
    "    f.write(Decision_text)"
   ]
  },
  {
   "cell_type": "code",
   "execution_count": 12,
   "id": "5678b294",
   "metadata": {},
   "outputs": [
    {
     "data": {
      "image/png": "[encoded data removed]",
      "text/plain": [
       "<Figure size 720x1080 with 1 Axes>"
      ]
     },
     "metadata": {
      "needs_background": "light"
     },
     "output_type": "display_data"
    }
   ],
   "source": [
    "# plotting the decision tree\n",
    "fig=plt.figure(figsize=(10,15))\n",
    "_ = plot_tree(Decision_classifier, \n",
    "                feature_names = Features,\n",
    "                class_names = Class,\n",
    "                rounded = True, \n",
    "                precision = 2, filled = True)\n"
   ]
  },
  {
   "cell_type": "code",
   "execution_count": 13,
   "id": "b48b2784",
   "metadata": {},
   "outputs": [
    {
     "data": {
      "text/plain": [
       "<Figure size 432x288 with 0 Axes>"
      ]
     },
     "metadata": {},
     "output_type": "display_data"
    }
   ],
   "source": [
    "plt.savefig('Decision_Tree_Classifier_Music.png')"
   ]
  },
  {
   "cell_type": "code",
   "execution_count": null,
   "id": "c9685e0d",
   "metadata": {},
   "outputs": [],
   "source": []
  }
 ],
 "metadata": {
  "kernelspec": {
   "display_name": "Python 3 (ipykernel)",
   "language": "python",
   "name": "python3"
  },
  "language_info": {
   "codemirror_mode": {
    "name": "ipython",
    "version": 3
   },
   "file_extension": ".py",
   "mimetype": "text/x-python",
   "name": "python",
   "nbconvert_exporter": "python",
   "pygments_lexer": "ipython3",
   "version": "3.9.12"
  }
 },
 "nbformat": 4,
 "nbformat_minor": 5
}
